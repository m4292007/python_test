{
 "cells": [
  {
   "cell_type": "markdown",
   "metadata": {},
   "source": [
    "https://towardsdatascience.com/lstm-time-series-forecasting-predicting-stock-prices-using-an-lstm-model-6223e9644a2f\n",
    " \n"
   ]
  },
  {
   "cell_type": "code",
   "execution_count": 1,
   "metadata": {},
   "outputs": [],
   "source": [
    "import math\n",
    "import matplotlib.pyplot as plt\n",
    "import keras\n",
    "import pandas as pd\n",
    "import numpy as np\n",
    "from keras.models import Sequential\n",
    "from keras.layers import Dense\n",
    "from keras.layers import LSTM\n",
    "from keras.layers import Dropout\n",
    "from keras.layers import *\n",
    "from sklearn.preprocessing import MinMaxScaler\n",
    "from sklearn.metrics import mean_squared_error\n",
    "from sklearn.metrics import mean_absolute_error\n",
    "from sklearn.model_selection import train_test_split\n",
    "from keras.callbacks import EarlyStopping"
   ]
  },
  {
   "cell_type": "code",
   "execution_count": 2,
   "metadata": {},
   "outputs": [
    {
     "name": "stdout",
     "output_type": "stream",
     "text": [
      "Number of rows and columns: (1259, 7)\n"
     ]
    },
    {
     "data": {
      "text/html": [
       "<div>\n",
       "<style scoped>\n",
       "    .dataframe tbody tr th:only-of-type {\n",
       "        vertical-align: middle;\n",
       "    }\n",
       "\n",
       "    .dataframe tbody tr th {\n",
       "        vertical-align: top;\n",
       "    }\n",
       "\n",
       "    .dataframe thead th {\n",
       "        text-align: right;\n",
       "    }\n",
       "</style>\n",
       "<table border=\"1\" class=\"dataframe\">\n",
       "  <thead>\n",
       "    <tr style=\"text-align: right;\">\n",
       "      <th></th>\n",
       "      <th>Date</th>\n",
       "      <th>Open</th>\n",
       "      <th>High</th>\n",
       "      <th>Low</th>\n",
       "      <th>Close</th>\n",
       "      <th>Adj Close</th>\n",
       "      <th>Volume</th>\n",
       "    </tr>\n",
       "  </thead>\n",
       "  <tbody>\n",
       "    <tr>\n",
       "      <th>0</th>\n",
       "      <td>2015-07-10</td>\n",
       "      <td>262.220001</td>\n",
       "      <td>263.000000</td>\n",
       "      <td>257.820007</td>\n",
       "      <td>259.149994</td>\n",
       "      <td>259.149994</td>\n",
       "      <td>2610900</td>\n",
       "    </tr>\n",
       "    <tr>\n",
       "      <th>1</th>\n",
       "      <td>2015-07-13</td>\n",
       "      <td>262.250000</td>\n",
       "      <td>262.549988</td>\n",
       "      <td>256.049988</td>\n",
       "      <td>262.160004</td>\n",
       "      <td>262.160004</td>\n",
       "      <td>2960300</td>\n",
       "    </tr>\n",
       "    <tr>\n",
       "      <th>2</th>\n",
       "      <td>2015-07-14</td>\n",
       "      <td>262.100006</td>\n",
       "      <td>265.989990</td>\n",
       "      <td>260.510010</td>\n",
       "      <td>265.649994</td>\n",
       "      <td>265.649994</td>\n",
       "      <td>1907600</td>\n",
       "    </tr>\n",
       "    <tr>\n",
       "      <th>3</th>\n",
       "      <td>2015-07-15</td>\n",
       "      <td>266.739990</td>\n",
       "      <td>267.489990</td>\n",
       "      <td>262.079987</td>\n",
       "      <td>263.140015</td>\n",
       "      <td>263.140015</td>\n",
       "      <td>2021600</td>\n",
       "    </tr>\n",
       "    <tr>\n",
       "      <th>4</th>\n",
       "      <td>2015-07-16</td>\n",
       "      <td>264.220001</td>\n",
       "      <td>267.200012</td>\n",
       "      <td>263.160004</td>\n",
       "      <td>266.679993</td>\n",
       "      <td>266.679993</td>\n",
       "      <td>1616000</td>\n",
       "    </tr>\n",
       "  </tbody>\n",
       "</table>\n",
       "</div>"
      ],
      "text/plain": [
       "         Date        Open        High         Low       Close   Adj Close  \\\n",
       "0  2015-07-10  262.220001  263.000000  257.820007  259.149994  259.149994   \n",
       "1  2015-07-13  262.250000  262.549988  256.049988  262.160004  262.160004   \n",
       "2  2015-07-14  262.100006  265.989990  260.510010  265.649994  265.649994   \n",
       "3  2015-07-15  266.739990  267.489990  262.079987  263.140015  263.140015   \n",
       "4  2015-07-16  264.220001  267.200012  263.160004  266.679993  266.679993   \n",
       "\n",
       "    Volume  \n",
       "0  2610900  \n",
       "1  2960300  \n",
       "2  1907600  \n",
       "3  2021600  \n",
       "4  1616000  "
      ]
     },
     "execution_count": 2,
     "metadata": {},
     "output_type": "execute_result"
    }
   ],
   "source": [
    "df=pd.read_csv(\"d:/TSLA1.csv\")\n",
    "print(\"Number of rows and columns:\", df.shape)\n",
    "df.head(5)"
   ]
  },
  {
   "cell_type": "code",
   "execution_count": 3,
   "metadata": {},
   "outputs": [
    {
     "name": "stdout",
     "output_type": "stream",
     "text": [
      "hello world\n"
     ]
    }
   ],
   "source": [
    "print(\"hello world\")"
   ]
  },
  {
   "cell_type": "markdown",
   "metadata": {},
   "source": [
    "**split the data into training and test sets to avoid overfitting**"
   ]
  },
  {
   "cell_type": "code",
   "execution_count": 4,
   "metadata": {},
   "outputs": [],
   "source": [
    "training_set = df.iloc[:800, 1:2].values\n",
    "test_set = df.iloc[800:, 1:2].values"
   ]
  },
  {
   "cell_type": "markdown",
   "metadata": {},
   "source": [
    "**normalize the data before model fitting**"
   ]
  },
  {
   "cell_type": "markdown",
   "metadata": {},
   "source": [
    " lag of 1 day (lag 1)"
   ]
  },
  {
   "cell_type": "code",
   "execution_count": 5,
   "metadata": {},
   "outputs": [],
   "source": [
    "# Feature Scaling\n",
    "sc = MinMaxScaler(feature_range = (0, 1))\n",
    "training_set_scaled = sc.fit_transform(training_set)\n",
    "# Creating a data structure with 60 time-steps and 1 output\n",
    "X_train = []\n",
    "y_train = []\n",
    "for i in range(60, 800):\n",
    "    X_train.append(training_set_scaled[i-60:i, 0])\n",
    "    y_train.append(training_set_scaled[i, 0])\n",
    "X_train, y_train = np.array(X_train), np.array(y_train)\n",
    "X_train = np.reshape(X_train, (X_train.shape[0], X_train.shape[1], 1))\n",
    "#(740, 60, 1)"
   ]
  },
  {
   "cell_type": "markdown",
   "metadata": {},
   "source": [
    "build the model<br>\n",
    "We will build the LSTM with 50 neurons and 4 hidden layers<br>\n",
    "assign 1 neuron in the output layer for predicting the normalized stock price<br>\n",
    "MSE loss function and the Adam stochastic gradient descent optimizer"
   ]
  },
  {
   "cell_type": "code",
   "execution_count": 6,
   "metadata": {},
   "outputs": [
    {
     "name": "stdout",
     "output_type": "stream",
     "text": [
      "Epoch 1/100\n",
      "24/24 [==============================] - 5s 191ms/step - loss: 0.0625\n",
      "Epoch 2/100\n",
      "24/24 [==============================] - 5s 218ms/step - loss: 0.0150\n",
      "Epoch 3/100\n",
      "24/24 [==============================] - 5s 219ms/step - loss: 0.0118\n",
      "Epoch 4/100\n",
      "24/24 [==============================] - 4s 177ms/step - loss: 0.0117\n",
      "Epoch 5/100\n",
      "24/24 [==============================] - 5s 204ms/step - loss: 0.0118\n",
      "Epoch 6/100\n",
      "24/24 [==============================] - 5s 202ms/step - loss: 0.0122\n",
      "Epoch 7/100\n",
      "24/24 [==============================] - 4s 160ms/step - loss: 0.0116\n",
      "Epoch 8/100\n",
      "24/24 [==============================] - 5s 197ms/step - loss: 0.0108\n",
      "Epoch 9/100\n",
      "24/24 [==============================] - 6s 250ms/step - loss: 0.0109\n",
      "Epoch 10/100\n",
      "24/24 [==============================] - 6s 232ms/step - loss: 0.0116\n",
      "Epoch 11/100\n",
      "24/24 [==============================] - 4s 169ms/step - loss: 0.0090\n",
      "Epoch 12/100\n",
      "24/24 [==============================] - 5s 210ms/step - loss: 0.0099\n",
      "Epoch 13/100\n",
      "24/24 [==============================] - 6s 237ms/step - loss: 0.0092\n",
      "Epoch 14/100\n",
      "24/24 [==============================] - 5s 225ms/step - loss: 0.0105\n",
      "Epoch 15/100\n",
      "24/24 [==============================] - 5s 190ms/step - loss: 0.0094\n",
      "Epoch 16/100\n",
      "24/24 [==============================] - 5s 203ms/step - loss: 0.0088\n",
      "Epoch 17/100\n",
      "24/24 [==============================] - 5s 225ms/step - loss: 0.0078\n",
      "Epoch 18/100\n",
      "24/24 [==============================] - 6s 257ms/step - loss: 0.0079\n",
      "Epoch 19/100\n",
      "24/24 [==============================] - 7s 309ms/step - loss: 0.0078\n",
      "Epoch 20/100\n",
      "24/24 [==============================] - 5s 206ms/step - loss: 0.0074\n",
      "Epoch 21/100\n",
      "24/24 [==============================] - 6s 265ms/step - loss: 0.0077\n",
      "Epoch 22/100\n",
      "24/24 [==============================] - 7s 309ms/step - loss: 0.0068\n",
      "Epoch 23/100\n",
      "24/24 [==============================] - 8s 331ms/step - loss: 0.0074\n",
      "Epoch 24/100\n",
      "24/24 [==============================] - 4s 175ms/step - loss: 0.0069\n",
      "Epoch 25/100\n",
      "24/24 [==============================] - 4s 156ms/step - loss: 0.0075\n",
      "Epoch 26/100\n",
      "24/24 [==============================] - 4s 159ms/step - loss: 0.0058\n",
      "Epoch 27/100\n",
      "24/24 [==============================] - 3s 131ms/step - loss: 0.0081\n",
      "Epoch 28/100\n",
      "24/24 [==============================] - 3s 129ms/step - loss: 0.0061\n",
      "Epoch 29/100\n",
      "24/24 [==============================] - 3s 105ms/step - loss: 0.0061\n",
      "Epoch 30/100\n",
      "24/24 [==============================] - 3s 135ms/step - loss: 0.0065\n",
      "Epoch 31/100\n",
      "24/24 [==============================] - 4s 163ms/step - loss: 0.0057\n",
      "Epoch 32/100\n",
      "24/24 [==============================] - 3s 138ms/step - loss: 0.0056\n",
      "Epoch 33/100\n",
      "24/24 [==============================] - 3s 129ms/step - loss: 0.0056\n",
      "Epoch 34/100\n",
      "24/24 [==============================] - 3s 133ms/step - loss: 0.0054\n",
      "Epoch 35/100\n",
      "24/24 [==============================] - 3s 132ms/step - loss: 0.0053\n",
      "Epoch 36/100\n",
      "24/24 [==============================] - 3s 122ms/step - loss: 0.0056\n",
      "Epoch 37/100\n",
      "24/24 [==============================] - 3s 129ms/step - loss: 0.0054\n",
      "Epoch 38/100\n",
      "24/24 [==============================] - 3s 144ms/step - loss: 0.0049\n",
      "Epoch 39/100\n",
      "24/24 [==============================] - 3s 145ms/step - loss: 0.0052\n",
      "Epoch 40/100\n",
      "24/24 [==============================] - 3s 128ms/step - loss: 0.0053\n",
      "Epoch 41/100\n",
      "24/24 [==============================] - 3s 117ms/step - loss: 0.0047\n",
      "Epoch 42/100\n",
      "24/24 [==============================] - 3s 130ms/step - loss: 0.0055\n",
      "Epoch 43/100\n",
      "24/24 [==============================] - 3s 129ms/step - loss: 0.0047\n",
      "Epoch 44/100\n",
      "24/24 [==============================] - 3s 128ms/step - loss: 0.0048\n",
      "Epoch 45/100\n",
      "24/24 [==============================] - 3s 138ms/step - loss: 0.0048\n",
      "Epoch 46/100\n",
      "24/24 [==============================] - 3s 140ms/step - loss: 0.0046\n",
      "Epoch 47/100\n",
      "24/24 [==============================] - 3s 139ms/step - loss: 0.0050\n",
      "Epoch 48/100\n",
      "24/24 [==============================] - 3s 109ms/step - loss: 0.0052\n",
      "Epoch 49/100\n",
      "24/24 [==============================] - 3s 125ms/step - loss: 0.0045\n",
      "Epoch 50/100\n",
      "24/24 [==============================] - 3s 127ms/step - loss: 0.0042\n",
      "Epoch 51/100\n",
      "24/24 [==============================] - 4s 150ms/step - loss: 0.0044\n",
      "Epoch 52/100\n",
      "24/24 [==============================] - 4s 179ms/step - loss: 0.0043 0s - loss: 0\n",
      "Epoch 53/100\n",
      "24/24 [==============================] - 4s 178ms/step - loss: 0.0040\n",
      "Epoch 54/100\n",
      "24/24 [==============================] - 4s 176ms/step - loss: 0.0039\n",
      "Epoch 55/100\n",
      "24/24 [==============================] - 3s 145ms/step - loss: 0.0047\n",
      "Epoch 56/100\n",
      "24/24 [==============================] - 3s 121ms/step - loss: 0.0039\n",
      "Epoch 57/100\n",
      "24/24 [==============================] - 3s 128ms/step - loss: 0.0038\n",
      "Epoch 58/100\n",
      "24/24 [==============================] - 3s 133ms/step - loss: 0.0041\n",
      "Epoch 59/100\n",
      "24/24 [==============================] - 3s 129ms/step - loss: 0.0039\n",
      "Epoch 60/100\n",
      "24/24 [==============================] - 3s 138ms/step - loss: 0.0045\n",
      "Epoch 61/100\n",
      "24/24 [==============================] - 4s 155ms/step - loss: 0.0040\n",
      "Epoch 62/100\n",
      "24/24 [==============================] - 4s 166ms/step - loss: 0.0044\n",
      "Epoch 63/100\n",
      "24/24 [==============================] - 3s 134ms/step - loss: 0.0040\n",
      "Epoch 64/100\n",
      "24/24 [==============================] - 3s 130ms/step - loss: 0.0041\n",
      "Epoch 65/100\n",
      "24/24 [==============================] - 3s 127ms/step - loss: 0.0037\n",
      "Epoch 66/100\n",
      "24/24 [==============================] - 3s 141ms/step - loss: 0.0039\n",
      "Epoch 67/100\n",
      "24/24 [==============================] - 3s 129ms/step - loss: 0.0037\n",
      "Epoch 68/100\n",
      "24/24 [==============================] - 3s 144ms/step - loss: 0.0035\n",
      "Epoch 69/100\n",
      "24/24 [==============================] - 3s 135ms/step - loss: 0.0036\n",
      "Epoch 70/100\n",
      "24/24 [==============================] - 3s 125ms/step - loss: 0.0039\n",
      "Epoch 71/100\n",
      "24/24 [==============================] - 4s 158ms/step - loss: 0.0034\n",
      "Epoch 72/100\n",
      "24/24 [==============================] - 4s 162ms/step - loss: 0.0033\n",
      "Epoch 73/100\n",
      "24/24 [==============================] - 3s 143ms/step - loss: 0.0034\n",
      "Epoch 74/100\n",
      "24/24 [==============================] - 3s 132ms/step - loss: 0.0035\n",
      "Epoch 75/100\n",
      "24/24 [==============================] - 3s 139ms/step - loss: 0.0039\n",
      "Epoch 76/100\n",
      "24/24 [==============================] - 3s 126ms/step - loss: 0.0035\n",
      "Epoch 77/100\n",
      "24/24 [==============================] - 3s 131ms/step - loss: 0.0032\n",
      "Epoch 78/100\n",
      "24/24 [==============================] - 3s 107ms/step - loss: 0.0032\n",
      "Epoch 79/100\n",
      "24/24 [==============================] - 4s 146ms/step - loss: 0.0037\n",
      "Epoch 80/100\n",
      "24/24 [==============================] - 3s 142ms/step - loss: 0.0033\n",
      "Epoch 81/100\n",
      "24/24 [==============================] - 3s 144ms/step - loss: 0.0030\n",
      "Epoch 82/100\n",
      "24/24 [==============================] - 3s 118ms/step - loss: 0.0029\n",
      "Epoch 83/100\n",
      "24/24 [==============================] - 3s 130ms/step - loss: 0.0032\n",
      "Epoch 84/100\n",
      "24/24 [==============================] - 3s 128ms/step - loss: 0.0031\n",
      "Epoch 85/100\n",
      "24/24 [==============================] - 3s 128ms/step - loss: 0.0031\n",
      "Epoch 86/100\n",
      "24/24 [==============================] - 3s 127ms/step - loss: 0.0032\n",
      "Epoch 87/100\n",
      "24/24 [==============================] - 4s 146ms/step - loss: 0.0029\n",
      "Epoch 88/100\n",
      "24/24 [==============================] - 3s 141ms/step - loss: 0.0031\n",
      "Epoch 89/100\n",
      "24/24 [==============================] - 3s 128ms/step - loss: 0.0032\n",
      "Epoch 90/100\n",
      "24/24 [==============================] - 3s 107ms/step - loss: 0.0029\n",
      "Epoch 91/100\n",
      "24/24 [==============================] - 3s 131ms/step - loss: 0.0029\n",
      "Epoch 92/100\n",
      "24/24 [==============================] - 3s 137ms/step - loss: 0.0033\n",
      "Epoch 93/100\n",
      "24/24 [==============================] - 3s 135ms/step - loss: 0.0032\n",
      "Epoch 94/100\n",
      "24/24 [==============================] - 3s 130ms/step - loss: 0.0030\n",
      "Epoch 95/100\n",
      "24/24 [==============================] - 3s 142ms/step - loss: 0.0030\n",
      "Epoch 96/100\n",
      "24/24 [==============================] - 3s 134ms/step - loss: 0.0033\n",
      "Epoch 97/100\n",
      "24/24 [==============================] - 4s 169ms/step - loss: 0.0042\n",
      "Epoch 98/100\n",
      "24/24 [==============================] - 4s 152ms/step - loss: 0.0028\n",
      "Epoch 99/100\n",
      "24/24 [==============================] - 4s 158ms/step - loss: 0.0027\n",
      "Epoch 100/100\n",
      "24/24 [==============================] - 4s 156ms/step - loss: 0.0029\n"
     ]
    },
    {
     "data": {
      "text/plain": [
       "<tensorflow.python.keras.callbacks.History at 0x219a22b3a88>"
      ]
     },
     "execution_count": 6,
     "metadata": {},
     "output_type": "execute_result"
    }
   ],
   "source": [
    "model = Sequential()\n",
    "#Adding the first LSTM layer and some Dropout regularisation\n",
    "model.add(LSTM(units = 50, return_sequences = True, input_shape = (X_train.shape[1], 1)))\n",
    "model.add(Dropout(0.2))\n",
    "# Adding a second LSTM layer and some Dropout regularisation\n",
    "model.add(LSTM(units = 50, return_sequences = True))\n",
    "model.add(Dropout(0.2))\n",
    "# Adding a third LSTM layer and some Dropout regularisation\n",
    "model.add(LSTM(units = 50, return_sequences = True))\n",
    "model.add(Dropout(0.2))\n",
    "# Adding a fourth LSTM layer and some Dropout regularisation\n",
    "model.add(LSTM(units = 50))\n",
    "model.add(Dropout(0.2))\n",
    "# Adding the output layer\n",
    "model.add(Dense(units = 1))\n",
    "\n",
    "# Compiling the RNN\n",
    "model.compile(optimizer = 'adam', loss = 'mean_squared_error')\n",
    "\n",
    "# Fitting the RNN to the Training set\n",
    "model.fit(X_train, y_train, epochs = 100, batch_size = 32)"
   ]
  },
  {
   "cell_type": "markdown",
   "metadata": {},
   "source": [
    "Prepare the test data"
   ]
  },
  {
   "cell_type": "code",
   "execution_count": 7,
   "metadata": {},
   "outputs": [
    {
     "name": "stdout",
     "output_type": "stream",
     "text": [
      "(459, 60, 1)\n"
     ]
    }
   ],
   "source": [
    "# Getting the predicted stock price of 2017\n",
    "dataset_train = df.iloc[:800, 1:2]\n",
    "dataset_test = df.iloc[800:, 1:2]\n",
    "dataset_total = pd.concat((dataset_train, dataset_test), axis = 0)\n",
    "inputs = dataset_total[len(dataset_total) - len(dataset_test) - 60:].values\n",
    "inputs = inputs.reshape(-1,1)\n",
    "inputs = sc.transform(inputs)\n",
    "X_test = []\n",
    "for i in range(60, 519):\n",
    "    X_test.append(inputs[i-60:i, 0])\n",
    "X_test = np.array(X_test)\n",
    "X_test = np.reshape(X_test, (X_test.shape[0], X_test.shape[1], 1))\n",
    "print(X_test.shape)\n",
    "# (459, 60, 1)"
   ]
  },
  {
   "cell_type": "markdown",
   "metadata": {},
   "source": [
    "Make Predictions using the test set"
   ]
  },
  {
   "cell_type": "code",
   "execution_count": 8,
   "metadata": {},
   "outputs": [],
   "source": [
    "predicted_stock_price = model.predict(X_test)\n",
    "predicted_stock_price = sc.inverse_transform(predicted_stock_price)"
   ]
  },
  {
   "cell_type": "markdown",
   "metadata": {},
   "source": [
    "visualize the results"
   ]
  },
  {
   "cell_type": "code",
   "execution_count": 9,
   "metadata": {},
   "outputs": [
    {
     "data": {
      "image/png": "[encoded data removed]",
      "text/plain": [
       "<Figure size 432x288 with 1 Axes>"
      ]
     },
     "metadata": {
      "needs_background": "light"
     },
     "output_type": "display_data"
    }
   ],
   "source": [
    "# Visualising the results\n",
    "plt.plot(df.loc[800:, 'Date'],dataset_test.values, color = 'red', label = 'Real TESLA Stock Price')\n",
    "plt.plot(df.loc[800:, 'Date'],predicted_stock_price, color = 'blue', label = 'Predicted TESLA Stock Price')\n",
    "plt.xticks(np.arange(0,459,50))\n",
    "plt.title('TESLA Stock Price Prediction')\n",
    "plt.xlabel('Time')\n",
    "plt.ylabel('TESLA Stock Price')\n",
    "plt.legend()\n",
    "plt.show()\n"
   ]
  },
  {
   "cell_type": "code",
   "execution_count": null,
   "metadata": {},
   "outputs": [],
   "source": []
  }
 ],
 "metadata": {
  "kernelspec": {
   "display_name": "Python 3",
   "language": "python",
   "name": "python3"
  },
  "language_info": {
   "codemirror_mode": {
    "name": "ipython",
    "version": 3
   },
   "file_extension": ".py",
   "mimetype": "text/x-python",
   "name": "python",
   "nbconvert_exporter": "python",
   "pygments_lexer": "ipython3",
   "version": "3.7.6"
  }
 },
 "nbformat": 4,
 "nbformat_minor": 4
}
